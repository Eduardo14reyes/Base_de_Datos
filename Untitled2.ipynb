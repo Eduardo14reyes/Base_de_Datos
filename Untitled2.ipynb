{
  "nbformat": 4,
  "nbformat_minor": 0,
  "metadata": {
    "colab": {
      "provenance": [],
      "authorship_tag": "ABX9TyNcUaKRtt4ysUkTAueQtIJJ",
      "include_colab_link": true
    },
    "kernelspec": {
      "name": "python3",
      "display_name": "Python 3"
    },
    "language_info": {
      "name": "python"
    }
  },
  "cells": [
    {
      "cell_type": "markdown",
      "metadata": {
        "id": "view-in-github",
        "colab_type": "text"
      },
      "source": [
        "<a href=\"https://colab.research.google.com/github/Eduardo14reyes/Base_de_Datos/blob/main/Untitled2.ipynb\" target=\"_parent\"><img src=\"https://colab.research.google.com/assets/colab-badge.svg\" alt=\"Open In Colab\"/></a>"
      ]
    },
    {
      "cell_type": "markdown",
      "source": [
        "Trabajar números en listas."
      ],
      "metadata": {
        "id": "GfeFFAOs2_mb"
      }
    },
    {
      "cell_type": "code",
      "source": [
        "paises=['canada','Eu','Mexico']\n",
        "poblacion = [37.8, 330.6, 127.1,]\n",
        "print('En',paises[2],' Hay ',abs(poblacion[0]-poblacion[2]),'millones mas habitantes que en ',paises[0])"
      ],
      "metadata": {
        "colab": {
          "base_uri": "https://localhost:8080/"
        },
        "id": "GlvJQ4lz9XoT",
        "outputId": "09fae7ad-c362-4eff-e1eb-35728b7f3ad5"
      },
      "execution_count": 11,
      "outputs": [
        {
          "output_type": "stream",
          "name": "stdout",
          "text": [
            "En Mexico  Hay  89.3 millones mas habitantes que en  canada\n"
          ]
        }
      ]
    },
    {
      "cell_type": "code",
      "source": [
        "print('El mayor número de habitantes de la lista es ',max(poblacion))"
      ],
      "metadata": {
        "colab": {
          "base_uri": "https://localhost:8080/"
        },
        "id": "YMh6i_uq-HNk",
        "outputId": "6c3e3f69-9e0d-4cce-f0b7-a3a2417e3420"
      },
      "execution_count": 12,
      "outputs": [
        {
          "output_type": "stream",
          "name": "stdout",
          "text": [
            "El mayor número de habitantes de la lista es  330.6\n"
          ]
        }
      ]
    },
    {
      "cell_type": "code",
      "source": [
        "print('El menor número de habitantes de la lista es ',min(poblacion))\n"
      ],
      "metadata": {
        "colab": {
          "base_uri": "https://localhost:8080/"
        },
        "id": "BlgBZK4e-T8T",
        "outputId": "fbf04adb-20e5-49e6-fda1-c9397889952e"
      },
      "execution_count": 13,
      "outputs": [
        {
          "output_type": "stream",
          "name": "stdout",
          "text": [
            "El menor número de habitantes de la lista es  37.8\n"
          ]
        }
      ]
    },
    {
      "cell_type": "markdown",
      "source": [
        "DICCIONARIO\n",
        "DATOS COMPLEJOS, LISTAS , TUPLAS Y DICCIONARIOS."
      ],
      "metadata": {
        "id": "NwzIYhJL_HOj"
      }
    },
    {
      "cell_type": "code",
      "source": [
        "alumno = {\n",
        "    'nombre':'Juan',\n",
        "    'calificacion': 7\n",
        "}\n",
        "\n",
        "print(alumno.get('nombre'))\n",
        "\n",
        "\n"
      ],
      "metadata": {
        "colab": {
          "base_uri": "https://localhost:8080/"
        },
        "id": "PblEyIVU_lpr",
        "outputId": "9b3b88ff-9fd3-45f1-a878-4c6e98f058f8"
      },
      "execution_count": 37,
      "outputs": [
        {
          "output_type": "stream",
          "name": "stdout",
          "text": [
            "Juan\n"
          ]
        }
      ]
    },
    {
      "cell_type": "code",
      "source": [
        "alumno['nombre'] ='beatriz'\n",
        "print(alumno)"
      ],
      "metadata": {
        "colab": {
          "base_uri": "https://localhost:8080/"
        },
        "id": "5tnH69bRCN31",
        "outputId": "c7a20afd-bbb1-4d75-f925-27248e43c558"
      },
      "execution_count": 39,
      "outputs": [
        {
          "output_type": "stream",
          "name": "stdout",
          "text": [
            "{'nombre': 'beatriz', 'calificacion': 7}\n"
          ]
        }
      ]
    },
    {
      "cell_type": "code",
      "source": [
        "alumno['periodo'] ={\n",
        "    'periodo1' : 8,\n",
        "    'periodo2' : 9 \n",
        "}"
      ],
      "metadata": {
        "id": "jwBRDgyiDHdE"
      },
      "execution_count": 51,
      "outputs": []
    },
    {
      "cell_type": "markdown",
      "source": [
        "EJERCICIO; CREAR LISTA \n",
        "JUAN, PEDRO , BEATRIZ , MIGUEL Y PAZ\n",
        "2* SOLICITA POR CONSOLA SE INGRESE UN NUEVO NOMBRE , EL CUAL SE AGREGARÁ A LA LISTA \n",
        "3* SOLICITRA UN NOMBRE , Y MANDA UN MENSAJE DE QUE SI ESTA EN LA LISTA "
      ],
      "metadata": {
        "id": "GUOSpekEEGqd"
      }
    },
    {
      "cell_type": "code",
      "source": [
        "nombres=['JUAN','PEDRO','BEATRIZ','MIGUEL','PAZ']\n",
        "print(nombres)"
      ],
      "metadata": {
        "colab": {
          "base_uri": "https://localhost:8080/"
        },
        "id": "vsTSqfzdEd1N",
        "outputId": "6abe89ce-6b2a-4252-b98b-77a32bc9080c"
      },
      "execution_count": 52,
      "outputs": [
        {
          "output_type": "stream",
          "name": "stdout",
          "text": [
            "['JUAN', 'PEDRO', 'BEATRIZ', 'MIGUEL', 'PAZ']\n"
          ]
        }
      ]
    },
    {
      "cell_type": "markdown",
      "source": [
        "FUNCIÓN RANDOM , GENERA TANTO  NÚMEROS ALEATORIOS COMO POSICIONES EN LA LISTA O ESCOGER UN VALOR , NO ESTA INTEGRADA EN PYTHON"
      ],
      "metadata": {
        "id": "WlT-kMx-Jo88"
      }
    },
    {
      "cell_type": "code",
      "source": [
        "import random\n",
        "numero =random.randint(0,5)\n",
        "print(numero)"
      ],
      "metadata": {
        "colab": {
          "base_uri": "https://localhost:8080/"
        },
        "id": "C2D3JeVuKJUu",
        "outputId": "a5f9011d-b81c-4202-8c39-67971dd133cb"
      },
      "execution_count": 76,
      "outputs": [
        {
          "output_type": "stream",
          "name": "stdout",
          "text": [
            "5\n"
          ]
        }
      ]
    },
    {
      "cell_type": "code",
      "source": [
        "lista = [2,190,False,'hola','pelota',123,]\n",
        "lista=random.choice(lista)\n",
        "print(lista)"
      ],
      "metadata": {
        "colab": {
          "base_uri": "https://localhost:8080/"
        },
        "id": "ncPL8pAmKsCE",
        "outputId": "b06b0db6-f3cc-4e94-a346-a7a8632da9fe"
      },
      "execution_count": 88,
      "outputs": [
        {
          "output_type": "stream",
          "name": "stdout",
          "text": [
            "190\n"
          ]
        }
      ]
    },
    {
      "cell_type": "code",
      "source": [
        "import random \n",
        "lista_numeros = []\n",
        "lista_numeros.append(random.randint(0,10))\n",
        "lista_numeros.append(random.randint(0,10))\n",
        "lista_numeros.append(random.randint(0,10))\n",
        "lista_numeros.append(random.randint(0,10))\n",
        "lista_numeros.append(random.randint(0,10))\n",
        "lista_numeros.append(random.randint(0,10))\n",
        "lista_numeros.append(random.randint(0,10))\n",
        "lista_numeros.append(random.randint(0,10))\n",
        "lista_numeros.append(random.randint(0,10))\n",
        "lista_numeros.append(random.randint(0,10))\n",
        "\n",
        "\n",
        "print(lista_numeros)\n",
        "\n",
        "print(f'el cuadrado de {lista_numeros[0]} es {lista_numeros[0]**2} y el cubo es {lista_numeros[0]**3} ')\n"
      ],
      "metadata": {
        "colab": {
          "base_uri": "https://localhost:8080/"
        },
        "id": "A_7DgXVoOheu",
        "outputId": "76664fb7-39a1-47d1-9494-3bf85fc31b5d"
      },
      "execution_count": 113,
      "outputs": [
        {
          "output_type": "stream",
          "name": "stdout",
          "text": [
            "[2, 7, 9, 0, 7, 7, 7, 2, 4, 9]\n",
            "el cuadrado de 2 es 4 y el cubo es 8 \n"
          ]
        }
      ]
    },
    {
      "cell_type": "code",
      "source": [
        "3112lista1 = []\n",
        "lista2 = []  \n",
        "cadena1 = input(\"Ingrese la cadena 1: \")\n",
        "cadena2 = input(\"Ingrese la cadena 2: \")\n",
        "cadena3 = input(\"Ingrese la cadena 3: \")\n",
        "cadena4 = input(\"Ingrese la cadena 4: \")\n",
        "cadena5 = input(\"Ingrese la cadena 5: \")\n",
        "lista = [cadena1, cadena2, cadena3, cadena4, cadena5]\n",
        "lista_inversa = lista[::-1]\n",
        "print(\"Los elementos de la lista  son:\", lista_)\n",
        "print(\"Los elementos de la lista inversa son:\", lista_inversa)"
      ],
      "metadata": {
        "colab": {
          "base_uri": "https://localhost:8080/",
          "height": 304
        },
        "id": "y4jcyGC5cLo2",
        "outputId": "45e87c55-8f68-448c-fe92-792bf3f15581"
      },
      "execution_count": 149,
      "outputs": [
        {
          "name": "stdout",
          "output_type": "stream",
          "text": [
            "Ingrese la cadena 1: 66\n",
            "Ingrese la cadena 2: 2012.\n",
            "Ingrese la cadena 3: 120.120.1\n",
            "Ingrese la cadena 4: 201201\n",
            "Ingrese la cadena 5: 1201\n"
          ]
        },
        {
          "output_type": "error",
          "ename": "NameError",
          "evalue": "ignored",
          "traceback": [
            "\u001b[0;31m---------------------------------------------------------------------------\u001b[0m",
            "\u001b[0;31mNameError\u001b[0m                                 Traceback (most recent call last)",
            "\u001b[0;32m<ipython-input-149-c2a871aa837b>\u001b[0m in \u001b[0;36m<cell line: 10>\u001b[0;34m()\u001b[0m\n\u001b[1;32m      8\u001b[0m \u001b[0mlista\u001b[0m \u001b[0;34m=\u001b[0m \u001b[0;34m[\u001b[0m\u001b[0mcadena1\u001b[0m\u001b[0;34m,\u001b[0m \u001b[0mcadena2\u001b[0m\u001b[0;34m,\u001b[0m \u001b[0mcadena3\u001b[0m\u001b[0;34m,\u001b[0m \u001b[0mcadena4\u001b[0m\u001b[0;34m,\u001b[0m \u001b[0mcadena5\u001b[0m\u001b[0;34m]\u001b[0m\u001b[0;34m\u001b[0m\u001b[0;34m\u001b[0m\u001b[0m\n\u001b[1;32m      9\u001b[0m \u001b[0mlista_inversa\u001b[0m \u001b[0;34m=\u001b[0m \u001b[0mlista\u001b[0m\u001b[0;34m[\u001b[0m\u001b[0;34m:\u001b[0m\u001b[0;34m:\u001b[0m\u001b[0;34m-\u001b[0m\u001b[0;36m1\u001b[0m\u001b[0;34m]\u001b[0m\u001b[0;34m\u001b[0m\u001b[0;34m\u001b[0m\u001b[0m\n\u001b[0;32m---> 10\u001b[0;31m \u001b[0mprint\u001b[0m\u001b[0;34m(\u001b[0m\u001b[0;34m\"Los elementos de la lista  son:\"\u001b[0m\u001b[0;34m,\u001b[0m \u001b[0mlista_\u001b[0m\u001b[0;34m)\u001b[0m\u001b[0;34m\u001b[0m\u001b[0;34m\u001b[0m\u001b[0m\n\u001b[0m\u001b[1;32m     11\u001b[0m \u001b[0mprint\u001b[0m\u001b[0;34m(\u001b[0m\u001b[0;34m\"Los elementos de la lista inversa son:\"\u001b[0m\u001b[0;34m,\u001b[0m \u001b[0mlista_inversa\u001b[0m\u001b[0;34m)\u001b[0m\u001b[0;34m\u001b[0m\u001b[0;34m\u001b[0m\u001b[0m\n",
            "\u001b[0;31mNameError\u001b[0m: name 'lista_' is not defined"
          ]
        }
      ]
    },
    {
      "cell_type": "code",
      "source": [
        "'0'==0"
      ],
      "metadata": {
        "colab": {
          "base_uri": "https://localhost:8080/"
        },
        "id": "M7iioCDCd28W",
        "outputId": "da84a804-35b0-4be7-8a8d-8f1af4f9d1d6"
      },
      "execution_count": 151,
      "outputs": [
        {
          "output_type": "execute_result",
          "data": {
            "text/plain": [
              "False"
            ]
          },
          "metadata": {},
          "execution_count": 151
        }
      ]
    },
    {
      "cell_type": "code",
      "source": [
        "'2'==2"
      ],
      "metadata": {
        "colab": {
          "base_uri": "https://localhost:8080/"
        },
        "id": "MLh6E_MfddiO",
        "outputId": "3938dd55-3fe6-4406-b346-d3da243d0544"
      },
      "execution_count": 150,
      "outputs": [
        {
          "output_type": "execute_result",
          "data": {
            "text/plain": [
              "False"
            ]
          },
          "metadata": {},
          "execution_count": 150
        }
      ]
    },
    {
      "cell_type": "code",
      "source": [
        "5>= 5.0"
      ],
      "metadata": {
        "colab": {
          "base_uri": "https://localhost:8080/"
        },
        "id": "f4U1UTtzeDzv",
        "outputId": "96c3c10b-b8eb-4944-ab2c-965ec6748ece"
      },
      "execution_count": 152,
      "outputs": [
        {
          "output_type": "execute_result",
          "data": {
            "text/plain": [
              "True"
            ]
          },
          "metadata": {},
          "execution_count": 152
        }
      ]
    },
    {
      "cell_type": "markdown",
      "source": [
        "SOLICITAR UN NUMERO QUE NOS IMPRIMA TRUE O FALSE "
      ],
      "metadata": {
        "id": "iH0B-1K1ecgv"
      }
    },
    {
      "cell_type": "code",
      "source": [],
      "metadata": {
        "colab": {
          "base_uri": "https://localhost:8080/",
          "height": 130
        },
        "id": "43cEZ6LHeklH",
        "outputId": "d6480a1d-60db-49ca-8a32-941991be018d"
      },
      "execution_count": 154,
      "outputs": [
        {
          "output_type": "error",
          "ename": "SyntaxError",
          "evalue": "ignored",
          "traceback": [
            "\u001b[0;36m  File \u001b[0;32m\"<ipython-input-154-3f666126d734>\"\u001b[0;36m, line \u001b[0;32m1\u001b[0m\n\u001b[0;31m    int>100==\u001b[0m\n\u001b[0m             ^\u001b[0m\n\u001b[0;31mSyntaxError\u001b[0m\u001b[0;31m:\u001b[0m invalid syntax\n"
          ]
        }
      ]
    },
    {
      "cell_type": "markdown",
      "source": [
        "condicionante simple "
      ],
      "metadata": {
        "id": "NhNMuui6g5kH"
      }
    },
    {
      "cell_type": "code",
      "source": [
        "a = 97\n",
        "b = 55\n",
        "if a < b:\n",
        "    print(b)"
      ],
      "metadata": {
        "id": "3iVNJTX7gW3-"
      },
      "execution_count": 165,
      "outputs": []
    },
    {
      "cell_type": "code",
      "source": [
        "a = 24\n",
        "b = 44\n",
        "if a <= 0:\n",
        "    print(a)\n",
        "print(b)\n"
      ],
      "metadata": {
        "colab": {
          "base_uri": "https://localhost:8080/"
        },
        "id": "JS_rG1SmhxZ3",
        "outputId": "74a80163-3b25-4155-f37c-6ba2a4192b40"
      },
      "execution_count": 166,
      "outputs": [
        {
          "output_type": "stream",
          "name": "stdout",
          "text": [
            "44\n"
          ]
        }
      ]
    },
    {
      "cell_type": "markdown",
      "source": [
        "condicional compuesta "
      ],
      "metadata": {
        "id": "KYBnNkfBiBCf"
      }
    },
    {
      "cell_type": "code",
      "source": [
        "a = 97\n",
        "b = 55\n",
        "if a < b:\n",
        "    print(b)\n",
        "else:\n",
        "    print(a)    "
      ],
      "metadata": {
        "colab": {
          "base_uri": "https://localhost:8080/"
        },
        "id": "M7F88pYOhyoB",
        "outputId": "955e9c48-046a-400c-e221-5e1468ca37dd"
      },
      "execution_count": 167,
      "outputs": [
        {
          "output_type": "stream",
          "name": "stdout",
          "text": [
            "97\n"
          ]
        }
      ]
    },
    {
      "cell_type": "markdown",
      "source": [],
      "metadata": {
        "id": "F-HeKueiiFf3"
      }
    },
    {
      "cell_type": "code",
      "source": [
        "a = 93\n",
        "b = 93\n",
        "if a > b:\n",
        "    print(\"a es mayor o igual que b\")\n",
        "elif a == b:\n",
        "    print(\"a es igual que b\")"
      ],
      "metadata": {
        "colab": {
          "base_uri": "https://localhost:8080/"
        },
        "id": "4TGuqQpCiEun",
        "outputId": "3dd861e2-d655-43ee-cf83-0f0202c33038"
      },
      "execution_count": 168,
      "outputs": [
        {
          "output_type": "stream",
          "name": "stdout",
          "text": [
            "a es igual que b\n"
          ]
        }
      ]
    },
    {
      "cell_type": "markdown",
      "source": [
        "solicitar 3 numeros y ver cual es el mayor de los 3 , 2do ejercicio imprimirlos de mayor a menor"
      ],
      "metadata": {
        "id": "dTkZ-kG3lvBm"
      }
    },
    {
      "cell_type": "code",
      "source": [
        "\n",
        "a = 23\n",
        "b = 34\n",
        "if a == 34 or b == 34:\n",
        "    print(a + b)"
      ],
      "metadata": {
        "colab": {
          "base_uri": "https://localhost:8080/"
        },
        "id": "h6kEUItAmItw",
        "outputId": "1c7886b4-81f4-4608-9ab9-d17d4c82c17e"
      },
      "execution_count": 172,
      "outputs": [
        {
          "output_type": "stream",
          "name": "stdout",
          "text": [
            "57\n"
          ]
        }
      ]
    },
    {
      "cell_type": "markdown",
      "source": [
        "EN AND NO SE VA A EJECUTAR SI UNA ES FALSO , NECESITAMOS QUE LOS DOS SEAN VERDADEROS "
      ],
      "metadata": {
        "id": "KRqb5f-fmya4"
      }
    },
    {
      "cell_type": "code",
      "source": [
        "a = 23\n",
        "b = 34\n",
        "if a== 34 and b == 34:\n",
        "  print('ok')"
      ],
      "metadata": {
        "id": "F8kLibOEmj44"
      },
      "execution_count": 174,
      "outputs": []
    },
    {
      "cell_type": "code",
      "source": [
        "años_normales = 365\n",
        "años_bisiestos = 366\n",
        "si el numero del año no es divisible entre 4 es un año comun de lo contrario si el año no es divisible entre 100 es un año bisiesto, si no es divible entre 400 es comun"
      ],
      "metadata": {
        "id": "w1gMXRQUm6Nw"
      },
      "execution_count": null,
      "outputs": []
    },
    {
      "cell_type": "code",
      "source": [],
      "metadata": {
        "id": "tYI1nmQinp6B"
      },
      "execution_count": null,
      "outputs": []
    }
  ]
}